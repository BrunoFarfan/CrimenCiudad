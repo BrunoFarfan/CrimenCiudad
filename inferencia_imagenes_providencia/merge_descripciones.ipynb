{
 "cells": [
  {
   "cell_type": "code",
   "execution_count": 1,
   "metadata": {},
   "outputs": [],
   "source": [
    "import pandas as pd\n",
    "\n",
    "# Lista de nombres de archivos CSV incluyendo los primeros dos archivos\n",
    "file_names = [ \"outputvision-missing_fotos.csv\",\n",
    "    \"outputvision-1-250.csv\", \"outputvision-251-500.csv\", \"outputvision-501-750.csv\",\n",
    "    \"outputvision-751-1000.csv\", \"outputvision-1001-1250.csv\", \"outputvision-1250-1750.csv\",\n",
    "    \"outputvision-1750-2000.csv\", \"outputvision-2001-2250.csv\", \"outputvision-2251-2500.csv\",\n",
    "    \"outputvision-2500-2750.csv\", \"outputvision-2751-2937.csv\"\n",
    "]\n",
    "\n",
    "# Leer todos los archivos y almacenarlos en una lista de dataframes\n",
    "dataframes = [pd.read_csv(file) for file in file_names]\n",
    "\n",
    "# Combinar todos los dataframes en uno solo\n",
    "df_combined = pd.concat(dataframes, ignore_index=True)\n",
    "\n",
    "# Guardar el dataframe combinado en un nuevo archivo CSV\n",
    "df_combined.to_csv(\"outputvision-combined.csv\", index=False)\n"
   ]
  },
  {
   "cell_type": "code",
   "execution_count": 3,
   "metadata": {},
   "outputs": [
    {
     "name": "stdout",
     "output_type": "stream",
     "text": [
      "Empty DataFrame\n",
      "Columns: [x, y, parte_id, fecha, hora, rango, clasificacion_parte, source, source_glosa, estado, lugar, grupo_delictual, delito, riesgo_situacional, descripcion_situacional, denuncia_formal, denuncia_informa, comuna, id_comuna, barrio, id_barrio, geometry, nearest_node, nombre_foto]\n",
      "Index: []\n",
      "\n",
      "[0 rows x 24 columns]\n"
     ]
    }
   ],
   "source": [
    "import pandas as pd\n",
    "\n",
    "# Leer los archivos CSV en dataframes\n",
    "df_prompt = pd.read_csv(\"df_prompt.csv\")\n",
    "df_combined = pd.read_csv(\"outputvision-combined.csv\")\n",
    "\n",
    "# Asegurarse de que las columnas relevantes están en formato de cadena\n",
    "df_prompt['nombre_foto'] = df_prompt['nombre_foto'].astype(str)\n",
    "df_combined['nombre_foto'] = df_combined['nombre_foto'].astype(str)\n",
    "\n",
    "# Encontrar los valores en 'nombre_foto' de df_prompt que no están en df_combined\n",
    "missing_fotos = df_prompt[~df_prompt['nombre_foto'].isin(df_combined['nombre_foto'])]\n",
    "\n",
    "# Guardar los resultados en un nuevo archivo CSV si es necesario\n",
    "missing_fotos.to_csv(\"missing_fotos.csv\", index=False)\n",
    "\n",
    "# Mostrar los resultados\n",
    "print(missing_fotos)\n"
   ]
  },
  {
   "cell_type": "code",
   "execution_count": 2,
   "metadata": {},
   "outputs": [],
   "source": [
    "import pandas as pd \n",
    "df_combined = pd.read_csv(\"outputvision-combined.csv\")\n"
   ]
  },
  {
   "cell_type": "code",
   "execution_count": 9,
   "metadata": {},
   "outputs": [],
   "source": [
    "import pandas as pd\n",
    "\n",
    "condition_length = df_combined['text'].str.len() < 50\n",
    "\n",
    "# Filtrar las filas donde las cadenas contienen los caracteres '<', '>', o '|'\n",
    "condition_chars = df_combined['text'].str.contains(r'[<>|]')\n",
    "\n",
    "# Usar una condición 'o' para filtrar las filas que cumplen al menos una de las condiciones\n",
    "filtered_df = df_combined[condition_length | condition_chars]\n",
    "filtered_df.to_csv('errores.csv')\n"
   ]
  },
  {
   "cell_type": "code",
   "execution_count": 11,
   "metadata": {},
   "outputs": [
    {
     "name": "stdout",
     "output_type": "stream",
     "text": [
      "      Unnamed: 0         x         y  parte_id       fecha      hora  \\\n",
      "0              0 -70.63623 -33.43079    349887  2015-01-02  23:05:00   \n",
      "1              1 -70.63018 -33.44323    586642  2014-02-21  10:10:00   \n",
      "2              2 -70.62536 -33.42980     42584  2015-06-20  01:00:00   \n",
      "3              3 -70.62135 -33.42979   7211180  2018-05-02  12:00:00   \n",
      "4              4 -70.61827 -33.41261   3049817  2015-09-03  18:45:00   \n",
      "...          ...       ...       ...       ...         ...       ...   \n",
      "3181     1855474 -70.58321 -33.43365    646478  2013-02-11  09:00:00   \n",
      "3182       82082 -70.63252 -33.43486    102396  2014-03-01  23:50:00   \n",
      "3183      728486 -70.61827 -33.41261   3049817  2015-09-03  18:45:00   \n",
      "3184      801889 -70.61369 -33.40972   5622617  2017-06-29  18:30:00   \n",
      "3185     1059207 -70.61260 -33.41921   1985118  2014-08-08  08:30:00   \n",
      "\n",
      "            rango clasificacion_parte         source   source_glosa  ...  \\\n",
      "0     20:00-23:59           Detención  caso_policial  Caso policial  ...   \n",
      "1      8:00-11:59            Denuncia  caso_policial  Caso policial  ...   \n",
      "2       0:00-3:59            Denuncia  caso_policial  Caso policial  ...   \n",
      "3     12:00-15:59            Denuncia  caso_policial  Caso policial  ...   \n",
      "4     16:00-19:59            Denuncia  caso_policial  Caso policial  ...   \n",
      "...           ...                 ...            ...            ...  ...   \n",
      "3181   8:00-11:59            Denuncia  caso_policial  Caso policial  ...   \n",
      "3182  20:00-23:59            Denuncia  caso_policial  Caso policial  ...   \n",
      "3183  16:00-19:59            Denuncia  caso_policial  Caso policial  ...   \n",
      "3184  16:00-19:59            Denuncia  caso_policial  Caso policial  ...   \n",
      "3185   8:00-11:59            Denuncia  caso_policial  Caso policial  ...   \n",
      "\n",
      "           comuna id_comuna barrio id_barrio                     geometry  \\\n",
      "0     Providencia     13123    NaN       NaN  POINT (-70.63623 -33.43079)   \n",
      "1     Providencia     13123    NaN       NaN  POINT (-70.63018 -33.44323)   \n",
      "2     Providencia     13123    NaN       NaN   POINT (-70.62536 -33.4298)   \n",
      "3     Providencia     13123    NaN       NaN  POINT (-70.62135 -33.42979)   \n",
      "4     Providencia     13123    NaN       NaN  POINT (-70.61827 -33.41261)   \n",
      "...           ...       ...    ...       ...                          ...   \n",
      "3181  Providencia     13123    NaN       NaN  POINT (-70.58321 -33.43365)   \n",
      "3182  Providencia     13123    NaN       NaN  POINT (-70.63252 -33.43486)   \n",
      "3183  Providencia     13123    NaN       NaN  POINT (-70.61827 -33.41261)   \n",
      "3184  Providencia     13123    NaN       NaN  POINT (-70.61369 -33.40972)   \n",
      "3185  Providencia     13123    NaN       NaN   POINT (-70.6126 -33.41921)   \n",
      "\n",
      "      nearest_node                                        nombre_foto  \\\n",
      "0     2.459727e+09  imagenes_stgo/-33.42932592,-70.63532995535715.jpg   \n",
      "1     1.337689e+08  imagenes_stgo/-33.44341660839161,-70.630142264...   \n",
      "2     2.244146e+08  imagenes_stgo/-33.429514599369085,-70.62501985...   \n",
      "3     7.042676e+08  imagenes_stgo/-33.429964215999995,-70.62090071...   \n",
      "4     2.656867e+08  imagenes_stgo/-33.41154513564668,-70.616374813...   \n",
      "...            ...                                                ...   \n",
      "3181  2.648450e+08  imagenes_stgo/-33.433796271999995,-70.58272249...   \n",
      "3182  2.239652e+08  imagenes_stgo/-33.435022239999995,-70.63183444...   \n",
      "3183  2.656867e+08  imagenes_stgo/-33.41215274825175,-70.617517192...   \n",
      "3184  2.250919e+08  imagenes_stgo/-33.40929895268138,-70.613904801...   \n",
      "3185  1.338645e+08  imagenes_stgo/-33.419406776025234,-70.61143478...   \n",
      "\n",
      "                                                   text Unnamed: 0.2  \\\n",
      "0     The image shows a street viewed from a high va...          NaN   \n",
      "1     The image shows a street with two parked cars ...          NaN   \n",
      "2     The image shows a street with a white car park...          NaN   \n",
      "3     The image shows a street with a clear sky, ind...          NaN   \n",
      "4     The image shows a street lined with trees, ind...          NaN   \n",
      "...                                                 ...          ...   \n",
      "3181  The image shows a street with a paved road and...          NaN   \n",
      "3182  The image shows a dark, possibly nighttime sce...          0.0   \n",
      "3183  The image shows a street with a mix of green a...          1.0   \n",
      "3184  The image shows a street with a clear view of ...          2.0   \n",
      "3185  The image provided does not contain any visibl...          3.0   \n",
      "\n",
      "      Unnamed: 0.1  \n",
      "0              NaN  \n",
      "1              NaN  \n",
      "2              NaN  \n",
      "3              NaN  \n",
      "4              NaN  \n",
      "...            ...  \n",
      "3181           NaN  \n",
      "3182         380.0  \n",
      "3183        1255.0  \n",
      "3184        1631.0  \n",
      "3185        1735.0  \n",
      "\n",
      "[3186 rows x 28 columns]\n"
     ]
    }
   ],
   "source": [
    "filtered_df_sin_errores  = pd.read_csv('output-vision-errores.csv')\n",
    "\n",
    "# Paso 1: Identificar las filas a eliminar (basado en el índice)\n",
    "indices_a_eliminar = filtered_df.index\n",
    "\n",
    "# Paso 2: Eliminar las filas de df_combined que están en filtered_df\n",
    "df_combined_sin_errores = df_combined.drop(indices_a_eliminar)\n",
    "\n",
    "# Paso 3: Agregar las filas del nuevo DataFrame filtered_df_sin_errores a df_combined\n",
    "df_combined_actualizado = pd.concat([df_combined_sin_errores, filtered_df_sin_errores])\n",
    "\n",
    "# Resetear el índice si es necesario\n",
    "df_combined_actualizado.reset_index(drop=True, inplace=True)\n",
    "\n",
    "# Mostrar el DataFrame actualizado\n",
    "print(df_combined_actualizado)"
   ]
  },
  {
   "cell_type": "code",
   "execution_count": 14,
   "metadata": {},
   "outputs": [
    {
     "data": {
      "text/html": [
       "<div>\n",
       "<style scoped>\n",
       "    .dataframe tbody tr th:only-of-type {\n",
       "        vertical-align: middle;\n",
       "    }\n",
       "\n",
       "    .dataframe tbody tr th {\n",
       "        vertical-align: top;\n",
       "    }\n",
       "\n",
       "    .dataframe thead th {\n",
       "        text-align: right;\n",
       "    }\n",
       "</style>\n",
       "<table border=\"1\" class=\"dataframe\">\n",
       "  <thead>\n",
       "    <tr style=\"text-align: right;\">\n",
       "      <th></th>\n",
       "      <th>Unnamed: 0</th>\n",
       "      <th>x</th>\n",
       "      <th>y</th>\n",
       "      <th>parte_id</th>\n",
       "      <th>fecha</th>\n",
       "      <th>hora</th>\n",
       "      <th>rango</th>\n",
       "      <th>clasificacion_parte</th>\n",
       "      <th>source</th>\n",
       "      <th>source_glosa</th>\n",
       "      <th>...</th>\n",
       "      <th>comuna</th>\n",
       "      <th>id_comuna</th>\n",
       "      <th>barrio</th>\n",
       "      <th>id_barrio</th>\n",
       "      <th>geometry</th>\n",
       "      <th>nearest_node</th>\n",
       "      <th>nombre_foto</th>\n",
       "      <th>text</th>\n",
       "      <th>Unnamed: 0.2</th>\n",
       "      <th>Unnamed: 0.1</th>\n",
       "    </tr>\n",
       "  </thead>\n",
       "  <tbody>\n",
       "  </tbody>\n",
       "</table>\n",
       "<p>0 rows × 28 columns</p>\n",
       "</div>"
      ],
      "text/plain": [
       "Empty DataFrame\n",
       "Columns: [Unnamed: 0, x, y, parte_id, fecha, hora, rango, clasificacion_parte, source, source_glosa, estado, lugar, grupo_delictual, delito, riesgo_situacional, descripcion_situacional, denuncia_formal, denuncia_informa, comuna, id_comuna, barrio, id_barrio, geometry, nearest_node, nombre_foto, text, Unnamed: 0.2, Unnamed: 0.1]\n",
       "Index: []\n",
       "\n",
       "[0 rows x 28 columns]"
      ]
     },
     "execution_count": 14,
     "metadata": {},
     "output_type": "execute_result"
    }
   ],
   "source": [
    "\n",
    "condition_length = df_combined_actualizado['text'].str.len() < 50\n",
    "\n",
    "# Filtrar las filas donde las cadenas contienen los caracteres '<', '>', o '|'\n",
    "condition_chars = df_combined_actualizado['text'].str.contains(r'[<>|]')\n",
    "\n",
    "# Usar una condición 'o' para filtrar las filas que cumplen al menos una de las condiciones\n",
    "filtered_df = df_combined_actualizado[condition_length | condition_chars]\n",
    "filtered_df"
   ]
  },
  {
   "cell_type": "code",
   "execution_count": 15,
   "metadata": {},
   "outputs": [
    {
     "name": "stderr",
     "output_type": "stream",
     "text": [
      "C:\\Users\\benja\\AppData\\Local\\Temp\\ipykernel_10712\\2564423022.py:1: DtypeWarning: Columns (23) have mixed types. Specify dtype option on import or set low_memory=False.\n",
      "  delitos = pd.read_csv('delitos_imagenes_providencia_traducido.csv')\n"
     ]
    }
   ],
   "source": [
    "delitos = pd.read_csv('delitos_imagenes_providencia_traducido.csv')"
   ]
  },
  {
   "cell_type": "code",
   "execution_count": 16,
   "metadata": {},
   "outputs": [],
   "source": [
    "delitos_merged = pd.merge(delitos, df_combined_actualizado[['nombre_foto', 'text']], on='nombre_foto', how='left')\n"
   ]
  },
  {
   "cell_type": "code",
   "execution_count": 17,
   "metadata": {},
   "outputs": [
    {
     "name": "stdout",
     "output_type": "stream",
     "text": [
      "Cantidad de NaN en 'nombre_foto': 1250816\n",
      "Cantidad de NaN en 'text': 1250816\n"
     ]
    }
   ],
   "source": [
    "# Cuenta los NaN en la columna nombre_foto\n",
    "na_nombre_foto = delitos_merged['nombre_foto'].isna().sum()\n",
    "\n",
    "# Cuenta los NaN en la columna text\n",
    "na_text = delitos_merged['text'].isna().sum()\n",
    "\n",
    "print(f\"Cantidad de NaN en 'nombre_foto': {na_nombre_foto}\")\n",
    "print(f\"Cantidad de NaN en 'text': {na_text}\")\n"
   ]
  },
  {
   "cell_type": "code",
   "execution_count": 18,
   "metadata": {},
   "outputs": [
    {
     "name": "stdout",
     "output_type": "stream",
     "text": [
      "Cantidad de valores no NaN en 'nombre_foto': 651559\n",
      "Cantidad de valores no NaN en 'text': 651559\n"
     ]
    }
   ],
   "source": [
    "# Cuenta los valores no NaN en la columna nombre_foto\n",
    "not_na_nombre_foto = delitos_merged['nombre_foto'].notna().sum()\n",
    "\n",
    "# Cuenta los valores no NaN en la columna text\n",
    "not_na_text = delitos_merged['text'].notna().sum()\n",
    "\n",
    "print(f\"Cantidad de valores no NaN en 'nombre_foto': {not_na_nombre_foto}\")\n",
    "print(f\"Cantidad de valores no NaN en 'text': {not_na_text}\")\n"
   ]
  },
  {
   "cell_type": "code",
   "execution_count": 19,
   "metadata": {},
   "outputs": [
    {
     "name": "stdout",
     "output_type": "stream",
     "text": [
      "Número de columnas: 25\n"
     ]
    }
   ],
   "source": [
    "# Contar el número de columnas usando len() en columns\n",
    "num_columnas = len(delitos_merged.columns)\n",
    "print(f\"Número de columnas: {num_columnas}\")\n"
   ]
  },
  {
   "cell_type": "code",
   "execution_count": 20,
   "metadata": {},
   "outputs": [
    {
     "name": "stdout",
     "output_type": "stream",
     "text": [
      "Número de columnas: 1902375\n"
     ]
    }
   ],
   "source": [
    "num_columnas = delitos_merged.shape[0]\n",
    "print(f\"Número de columnas: {num_columnas}\")\n"
   ]
  },
  {
   "cell_type": "code",
   "execution_count": 21,
   "metadata": {},
   "outputs": [
    {
     "name": "stdout",
     "output_type": "stream",
     "text": [
      "Index(['x', 'y', 'parte_id', 'fecha', 'hora', 'rango', 'clasificacion_parte',\n",
      "       'source', 'source_glosa', 'estado', 'lugar', 'grupo_delictual',\n",
      "       'delito', 'riesgo_situacional', 'descripcion_situacional',\n",
      "       'denuncia_formal', 'denuncia_informa', 'comuna', 'id_comuna', 'barrio',\n",
      "       'id_barrio', 'geometry', 'nearest_node', 'nombre_foto', 'text'],\n",
      "      dtype='object')\n"
     ]
    }
   ],
   "source": [
    "print(delitos_merged.columns)"
   ]
  },
  {
   "cell_type": "code",
   "execution_count": 22,
   "metadata": {},
   "outputs": [],
   "source": [
    "delitos_merged.to_csv('delitos_txt.csv')"
   ]
  }
 ],
 "metadata": {
  "kernelspec": {
   "display_name": "Python 3",
   "language": "python",
   "name": "python3"
  },
  "language_info": {
   "codemirror_mode": {
    "name": "ipython",
    "version": 3
   },
   "file_extension": ".py",
   "mimetype": "text/x-python",
   "name": "python",
   "nbconvert_exporter": "python",
   "pygments_lexer": "ipython3",
   "version": "3.12.4"
  }
 },
 "nbformat": 4,
 "nbformat_minor": 2
}
